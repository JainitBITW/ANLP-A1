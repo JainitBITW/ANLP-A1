{
 "cells": [
  {
   "cell_type": "code",
   "execution_count": 1,
   "metadata": {},
   "outputs": [
    {
     "name": "stderr",
     "output_type": "stream",
     "text": [
      "[nltk_data] Downloading package punkt to /home2/jainit/nltk_data...\n",
      "[nltk_data]   Package punkt is already up-to-date!\n",
      "[nltk_data] Downloading package stopwords to\n",
      "[nltk_data]     /home2/jainit/nltk_data...\n",
      "[nltk_data]   Package stopwords is already up-to-date!\n",
      "[nltk_data] Downloading package punkt to /home2/jainit/nltk_data...\n",
      "[nltk_data]   Package punkt is already up-to-date!\n",
      "Failed to detect the name of this notebook, you can set it manually with the WANDB_NOTEBOOK_NAME environment variable to enable code saving.\n",
      "\u001b[34m\u001b[1mwandb\u001b[0m: Currently logged in as: \u001b[33mjain_it\u001b[0m. Use \u001b[1m`wandb login --relogin`\u001b[0m to force relogin\n"
     ]
    },
    {
     "data": {
      "text/html": [
       "Tracking run with wandb version 0.15.9"
      ],
      "text/plain": [
       "<IPython.core.display.HTML object>"
      ]
     },
     "metadata": {},
     "output_type": "display_data"
    },
    {
     "data": {
      "text/html": [
       "Run data is saved locally in <code>/home2/jainit/ANLP-A1/src/wandb/run-20230902_003136-o94myod7</code>"
      ],
      "text/plain": [
       "<IPython.core.display.HTML object>"
      ]
     },
     "metadata": {},
     "output_type": "display_data"
    },
    {
     "data": {
      "text/html": [
       "Syncing run <strong><a href='https://wandb.ai/jain_it/NNLM/runs/o94myod7' target=\"_blank\">drawn-glade-48</a></strong> to <a href='https://wandb.ai/jain_it/NNLM' target=\"_blank\">Weights & Biases</a> (<a href='https://wandb.me/run' target=\"_blank\">docs</a>)<br/>"
      ],
      "text/plain": [
       "<IPython.core.display.HTML object>"
      ]
     },
     "metadata": {},
     "output_type": "display_data"
    },
    {
     "data": {
      "text/html": [
       " View project at <a href='https://wandb.ai/jain_it/NNLM' target=\"_blank\">https://wandb.ai/jain_it/NNLM</a>"
      ],
      "text/plain": [
       "<IPython.core.display.HTML object>"
      ]
     },
     "metadata": {},
     "output_type": "display_data"
    },
    {
     "data": {
      "text/html": [
       " View run at <a href='https://wandb.ai/jain_it/NNLM/runs/o94myod7' target=\"_blank\">https://wandb.ai/jain_it/NNLM/runs/o94myod7</a>"
      ],
      "text/plain": [
       "<IPython.core.display.HTML object>"
      ]
     },
     "metadata": {},
     "output_type": "display_data"
    },
    {
     "data": {
      "text/html": [
       "<button onClick=\"this.nextSibling.style.display='block';this.style.display='none';\">Display W&B run</button><iframe src='https://wandb.ai/jain_it/NNLM/runs/o94myod7?jupyter=true' style='border:none;width:100%;height:420px;display:none;'></iframe>"
      ],
      "text/plain": [
       "<wandb.sdk.wandb_run.Run at 0x7f181e2879d0>"
      ]
     },
     "execution_count": 1,
     "metadata": {},
     "output_type": "execute_result"
    }
   ],
   "source": [
    "# importing the libraries \n",
    "import torch \n",
    "from torch import nn\n",
    "from torch.utils.data import DataLoader, Dataset\n",
    "import torch.nn.functional as F\n",
    "import nltk \n",
    "nltk.download('punkt')\n",
    "nltk.download('stopwords')\n",
    "from nltk.corpus import stopwords\n",
    "import random\n",
    "from torch import cuda\n",
    "import config_hp as hp\n",
    "from pprint import pprint\n",
    "import pickle \n",
    "from  data_maker import *\n",
    "WANDB_SILENT = \"true\"\n",
    "import wandb\n",
    "import torch.optim as optim\n",
    "from torch.optim import lr_scheduler\n",
    "wandb.login()\n",
    "\n",
    "wandb.init(project=\"NNLM\")"
   ]
  },
  {
   "cell_type": "code",
   "execution_count": 2,
   "metadata": {},
   "outputs": [],
   "source": [
    "class NNLM(nn.Module):\n",
    "    \"\"\"This class implements the Neural Network Language Model\"\"\"\n",
    "    def __init__( self, glove_embeddings, hidden_layer,  n_gram, drpout= 0.5):\n",
    "        super(NNLM, self).__init__()\n",
    "        self.vocab_size = glove_embeddings.shape[0]\n",
    "        self.embeddings_dim = glove_embeddings.shape[1]\n",
    "        print(self.embeddings_dim)\n",
    "        self.embeddings = nn.Embedding.from_pretrained(glove_embeddings)\n",
    "        self.linear1 = nn.Linear(( self.embeddings_dim)*n_gram, hidden_layer)\n",
    "        self.linear2 = nn.Linear(hidden_layer, self.vocab_size)\n",
    "        self.relu1 = nn.ReLU()\n",
    "        self.dropout1 = nn.Dropout(p=drpout)\n",
    "        self.n_gram = n_gram\n",
    "        \n",
    "\n",
    "    \n",
    "    def forward(self, x):\n",
    "        x = self.embeddings(x) # (batch_size, n_gram, embedding_dim)\n",
    "        # print(x.shape)\n",
    "        x = x.view(x.shape[0], -1) # (batch_size, n_gram*embedding_dim)\n",
    "        # print(x.shape)\n",
    "        x = self.linear1(x) # (batch_size, hidden_layer)\n",
    "        x = self.relu1(x) # (batch_size, hidden_layer)\n",
    "        x = self.dropout1(x) # (batch_size, hidden_layer) \n",
    "        x = self.linear2(x) # (batch_size, vocab_size)\n",
    "       \n",
    "        return x\n"
   ]
  },
  {
   "cell_type": "code",
   "execution_count": 3,
   "metadata": {},
   "outputs": [],
   "source": [
    "class NNLM_without_pretrained(nn.Module):\n",
    "    \"\"\"This class implements the Neural Network Language Model\"\"\"\n",
    "    def __init__( self, glove_embeddings, hidden_layer,  n_gram, drpout= 0.5):\n",
    "        super(NNLM_without_pretrained, self).__init__()\n",
    "        self.vocab_size = glove_embeddings.shape[0]\n",
    "        self.embeddings_dim = glove_embeddings.shape[1]\n",
    "        print(self.embeddings_dim)\n",
    "        self.embeddings = nn.Embedding(self.vocab_size, self.embeddings_dim)\n",
    "        self.linear1 = nn.Linear(( self.embeddings_dim)*n_gram, hidden_layer)\n",
    "        self.linear2 = nn.Linear(hidden_layer, self.vocab_size)\n",
    "        self.relu1 = nn.ReLU()\n",
    "        self.dropout1 = nn.Dropout(p=drpout)\n",
    "        self.n_gram = n_gram\n",
    "        \n",
    "\n",
    "    \n",
    "    def forward(self, x):\n",
    "        x = self.embeddings(x) # (batch_size, n_gram, embedding_dim)\n",
    "        # print(x.shape)\n",
    "        x = x.view(x.shape[0], -1) # (batch_size, n_gram*embedding_dim)\n",
    "        # print(x.shape)\n",
    "        x = self.linear1(x) # (batch_size, hidden_layer)\n",
    "        x = self.relu1(x) # (batch_size, hidden_layer)\n",
    "        x = self.dropout1(x) # (batch_size, hidden_layer) \n",
    "        x = self.linear2(x) # (batch_size, vocab_size)\n",
    "        \n",
    "       \n",
    "        return x\n"
   ]
  },
  {
   "cell_type": "code",
   "execution_count": 4,
   "metadata": {},
   "outputs": [],
   "source": [
    "with open('../data/embeddings.pkl', 'rb') as f:\n",
    "    glove_embeddings = pickle.load(f)"
   ]
  },
  {
   "cell_type": "code",
   "execution_count": 5,
   "metadata": {},
   "outputs": [],
   "source": [
    "with open('../data/vocab.pkl', 'rb') as f:\n",
    "    vocab = pickle.load(f)\n",
    "    "
   ]
  },
  {
   "cell_type": "code",
   "execution_count": 6,
   "metadata": {},
   "outputs": [],
   "source": [
    "with open('../data/ngrams_dataloader.pkl', 'rb') as f:\n",
    "    ngrams_dataloader = pickle.load(f)"
   ]
  },
  {
   "attachments": {
    "image.png": {
     "image/png": "[encoded data removed]"
    }
   },
   "cell_type": "markdown",
   "metadata": {},
   "source": [
    "Perplexity will be e^(cross-entropy loss per word) because the loss is the negative log likelihood of the data, and the perplexity is the inverse of the likelihood.\n",
    "![image.png](attachment:image.png)\n"
   ]
  },
  {
   "cell_type": "code",
   "execution_count": 7,
   "metadata": {},
   "outputs": [
    {
     "data": {
      "text/html": [
       "Finishing last run (ID:o94myod7) before initializing another..."
      ],
      "text/plain": [
       "<IPython.core.display.HTML object>"
      ]
     },
     "metadata": {},
     "output_type": "display_data"
    },
    {
     "data": {
      "text/html": [
       "Waiting for W&B process to finish... <strong style=\"color:green\">(success).</strong>"
      ],
      "text/plain": [
       "<IPython.core.display.HTML object>"
      ]
     },
     "metadata": {},
     "output_type": "display_data"
    },
    {
     "name": "stderr",
     "output_type": "stream",
     "text": [
      "wandb: WARNING Source type is set to 'repo' but some required information is missing from the environment. A job will not be created from this run. See https://docs.wandb.ai/guides/launch/create-job\n"
     ]
    },
    {
     "data": {
      "text/html": [
       " View run <strong style=\"color:#cdcd00\">drawn-glade-48</strong> at: <a href='https://wandb.ai/jain_it/NNLM/runs/o94myod7' target=\"_blank\">https://wandb.ai/jain_it/NNLM/runs/o94myod7</a><br/>Synced 4 W&B file(s), 0 media file(s), 0 artifact file(s) and 0 other file(s)"
      ],
      "text/plain": [
       "<IPython.core.display.HTML object>"
      ]
     },
     "metadata": {},
     "output_type": "display_data"
    },
    {
     "data": {
      "text/html": [
       "Find logs at: <code>./wandb/run-20230902_003136-o94myod7/logs</code>"
      ],
      "text/plain": [
       "<IPython.core.display.HTML object>"
      ]
     },
     "metadata": {},
     "output_type": "display_data"
    },
    {
     "data": {
      "text/html": [
       "Successfully finished last run (ID:o94myod7). Initializing new run:<br/>"
      ],
      "text/plain": [
       "<IPython.core.display.HTML object>"
      ]
     },
     "metadata": {},
     "output_type": "display_data"
    },
    {
     "data": {
      "text/html": [
       "Tracking run with wandb version 0.15.9"
      ],
      "text/plain": [
       "<IPython.core.display.HTML object>"
      ]
     },
     "metadata": {},
     "output_type": "display_data"
    },
    {
     "data": {
      "text/html": [
       "Run data is saved locally in <code>/home2/jainit/ANLP-A1/src/wandb/run-20230902_003140-hv832imi</code>"
      ],
      "text/plain": [
       "<IPython.core.display.HTML object>"
      ]
     },
     "metadata": {},
     "output_type": "display_data"
    },
    {
     "data": {
      "text/html": [
       "Syncing run <strong><a href='https://wandb.ai/jain_it/NNLM/runs/hv832imi' target=\"_blank\">pretrained_withsoftmax</a></strong> to <a href='https://wandb.ai/jain_it/NNLM' target=\"_blank\">Weights & Biases</a> (<a href='https://wandb.me/run' target=\"_blank\">docs</a>)<br/>"
      ],
      "text/plain": [
       "<IPython.core.display.HTML object>"
      ]
     },
     "metadata": {},
     "output_type": "display_data"
    },
    {
     "data": {
      "text/html": [
       " View project at <a href='https://wandb.ai/jain_it/NNLM' target=\"_blank\">https://wandb.ai/jain_it/NNLM</a>"
      ],
      "text/plain": [
       "<IPython.core.display.HTML object>"
      ]
     },
     "metadata": {},
     "output_type": "display_data"
    },
    {
     "data": {
      "text/html": [
       " View run at <a href='https://wandb.ai/jain_it/NNLM/runs/hv832imi' target=\"_blank\">https://wandb.ai/jain_it/NNLM/runs/hv832imi</a>"
      ],
      "text/plain": [
       "<IPython.core.display.HTML object>"
      ]
     },
     "metadata": {},
     "output_type": "display_data"
    },
    {
     "name": "stdout",
     "output_type": "stream",
     "text": [
      "300\n",
      "The Device is cuda\n",
      "Epoch: 1, Loss: 5.811147005573772 , Perplexity:334.0020082134591 \n",
      "VALID: Epoch: 1, Loss: 5.614186698577471 , Perplexity:274.29020783867037 \n",
      "Epoch: 2, Loss: 5.553472651078348 , Perplexity:258.13240503180236 \n",
      "VALID: Epoch: 2, Loss: 5.581941064286731 , Perplexity:265.5866264960935 \n",
      "Epoch: 3, Loss: 5.530516093501814 , Perplexity:252.27407444287223 \n",
      "VALID: Epoch: 3, Loss: 5.597369315359537 , Perplexity:269.7159357529552 \n",
      "Epoch: 4, Loss: 5.51996043260919 , Perplexity:249.62515997802637 \n",
      "VALID: Epoch: 4, Loss: 5.578001449061966 , Perplexity:264.5423757026311 \n",
      "Epoch: 5, Loss: 5.513894607366982 , Perplexity:248.11556049358123 \n",
      "VALID: Epoch: 5, Loss: 5.60228993100453 , Perplexity:271.04637481131545 \n",
      "Epoch: 6, Loss: 5.514772522433141 , Perplexity:248.33348052593027 \n",
      "VALID: Epoch: 6, Loss: 5.59793531729835 , Perplexity:269.8686387065273 \n",
      "Epoch: 7, Loss: 5.511356930673858 , Perplexity:247.48672165081928 \n",
      "Epoch 00007: reducing learning rate of group 0 to 4.0000e-03.\n",
      "VALID: Epoch: 7, Loss: 5.5844576623495366 , Perplexity:266.25584300713444 \n",
      "Epoch: 8, Loss: 5.497377506231842 , Perplexity:244.05106989281944 \n",
      "VALID: Epoch: 8, Loss: 5.580802768080284 , Perplexity:265.28448224412233 \n",
      "Epoch: 9, Loss: 5.494510663538327 , Perplexity:243.35241581043576 \n",
      "VALID: Epoch: 9, Loss: 5.58477566977915 , Perplexity:266.34052780787295 \n",
      "Epoch: 10, Loss: 5.4945879921471334 , Perplexity:243.3712346418076 \n",
      "VALID: Epoch: 10, Loss: 5.568452835459805 , Perplexity:262.02838444250125 \n",
      "Model Saved\n",
      "Epoch: 11, Loss: 5.494836227185322 , Perplexity:243.43165540849841 \n",
      "VALID: Epoch: 11, Loss: 5.573842318243587 , Perplexity:263.4443942620764 \n",
      "Epoch: 12, Loss: 5.4938759367310475 , Perplexity:243.19800251881648 \n",
      "VALID: Epoch: 12, Loss: 5.568692969974441 , Perplexity:262.0913140569039 \n",
      "Epoch: 13, Loss: 5.491165326084337 , Perplexity:242.53968005495037 \n",
      "VALID: Epoch: 13, Loss: 5.565963698771102 , Perplexity:261.3769710421367 \n",
      "Epoch: 14, Loss: 5.491836121142066 , Perplexity:242.70242905314367 \n",
      "VALID: Epoch: 14, Loss: 5.568226385851332 , Perplexity:261.9690549352609 \n",
      "Epoch: 15, Loss: 5.491817414842352 , Perplexity:242.69788903122802 \n",
      "VALID: Epoch: 15, Loss: 5.5798541692253725 , Perplexity:265.0329530070742 \n",
      "Epoch: 16, Loss: 5.491499106267664 , Perplexity:242.62064850590372 \n",
      "Epoch 00016: reducing learning rate of group 0 to 3.2000e-03.\n",
      "VALID: Epoch: 16, Loss: 5.629944872733681 , Perplexity:278.64675617568963 \n",
      "Epoch: 17, Loss: 5.4789572754529425 , Perplexity:239.59674366923903 \n",
      "VALID: Epoch: 17, Loss: 5.573128807643617 , Perplexity:263.25649093774643 \n",
      "Epoch: 18, Loss: 5.476928980009472 , Perplexity:239.1112632011331 \n",
      "VALID: Epoch: 18, Loss: 5.558666741127367 , Perplexity:259.4766560463535 \n",
      "Epoch: 19, Loss: 5.476436337414993 , Perplexity:238.99349581905685 \n",
      "VALID: Epoch: 19, Loss: 5.564800305971276 , Perplexity:261.07306377202855 \n",
      "Epoch: 20, Loss: 5.476538704880337 , Perplexity:239.01796222971828 \n",
      "VALID: Epoch: 20, Loss: 5.580601018485887 , Perplexity:265.23096660599043 \n",
      "Model Saved\n",
      "Epoch: 21, Loss: 5.475104611121236 , Perplexity:238.67543372946832 \n",
      "Epoch 00021: reducing learning rate of group 0 to 2.5600e-03.\n",
      "VALID: Epoch: 21, Loss: 5.559389426744959 , Perplexity:259.6642438691254 \n",
      "Epoch: 22, Loss: 5.462760862559062 , Perplexity:235.74739286589156 \n",
      "VALID: Epoch: 22, Loss: 5.550662318975357 , Perplexity:257.40798565342345 \n",
      "Epoch: 23, Loss: 5.461305791205755 , Perplexity:235.40461303295214 \n",
      "VALID: Epoch: 23, Loss: 5.5525877962749215 , Perplexity:257.90409635819975 \n",
      "Epoch: 24, Loss: 5.44983984987283 , Perplexity:232.72089264253077 \n",
      "VALID: Epoch: 24, Loss: 5.534713555211279 , Perplexity:253.3352106920391 \n",
      "Epoch: 25, Loss: 5.418358704621305 , Perplexity:225.50869221804058 \n",
      "VALID: Epoch: 25, Loss: 5.526308137877852 , Perplexity:251.21474669772812 \n",
      "Epoch: 26, Loss: 5.403137312578819 , Perplexity:222.10212810097627 \n",
      "VALID: Epoch: 26, Loss: 5.5424224472196615 , Perplexity:255.2956913311675 \n",
      "Epoch: 27, Loss: 5.392232679699347 , Perplexity:219.6933432586887 \n",
      "VALID: Epoch: 27, Loss: 5.537376301037092 , Perplexity:254.01067686510734 \n",
      "Epoch: 28, Loss: 5.388852594023349 , Perplexity:218.95201451915992 \n",
      "Epoch 00028: reducing learning rate of group 0 to 2.0480e-03.\n",
      "VALID: Epoch: 28, Loss: 5.546215245018171 , Perplexity:256.2658148454212 \n",
      "Epoch: 29, Loss: 5.366898773465464 , Perplexity:214.19756144365988 \n",
      "VALID: Epoch: 29, Loss: 5.579095646780218 , Perplexity:264.83199578842846 \n",
      "Epoch: 30, Loss: 5.3610647303577315 , Perplexity:212.95156177858001 \n",
      "VALID: Epoch: 30, Loss: 5.542413393530814 , Perplexity:255.29337997387722 \n",
      "Model Saved\n",
      "Epoch: 31, Loss: 5.3548849388642985 , Perplexity:211.63962345645066 \n",
      "Epoch 00031: reducing learning rate of group 0 to 1.6384e-03.\n",
      "VALID: Epoch: 31, Loss: 5.5652780596892475 , Perplexity:261.1978221984359 \n",
      "Epoch: 32, Loss: 5.337568429569187 , Perplexity:208.00631286831373 \n",
      "VALID: Epoch: 32, Loss: 5.544116130981084 , Perplexity:255.7284478708489 \n",
      "Epoch: 33, Loss: 5.330297818102434 , Perplexity:206.4994642780229 \n",
      "VALID: Epoch: 33, Loss: 5.562690974129654 , Perplexity:260.5229544311649 \n",
      "Epoch: 34, Loss: 5.323464536030611 , Perplexity:205.09320534486275 \n",
      "Epoch 00034: reducing learning rate of group 0 to 1.3107e-03.\n",
      "VALID: Epoch: 34, Loss: 5.598042830607016 , Perplexity:269.8976547365565 \n",
      "Epoch: 35, Loss: 5.304150820997442 , Perplexity:201.1701004355481 \n",
      "VALID: Epoch: 35, Loss: 5.567286784354051 , Perplexity:261.72302402261005 \n",
      "Epoch: 36, Loss: 5.29323231771055 , Perplexity:198.9855716273109 \n",
      "VALID: Epoch: 36, Loss: 5.5571061323302295 , Perplexity:259.07203030764157 \n",
      "Epoch: 37, Loss: 5.2834305803085115 , Perplexity:197.04469482874742 \n",
      "Epoch 00037: reducing learning rate of group 0 to 1.0486e-03.\n",
      "VALID: Epoch: 37, Loss: 5.569180970887147 , Perplexity:262.21924607030684 \n",
      "Epoch: 38, Loss: 5.261768612068986 , Perplexity:192.82221760332325 \n",
      "VALID: Epoch: 38, Loss: 5.52627787275401 , Perplexity:251.20714376736083 \n",
      "Epoch: 39, Loss: 5.243238006599646 , Perplexity:189.28200758427866 \n",
      "VALID: Epoch: 39, Loss: 5.532217411880011 , Perplexity:252.7036382708684 \n",
      "Epoch: 40, Loss: 5.227178533440859 , Perplexity:186.26651667105347 \n",
      "Epoch 00040: reducing learning rate of group 0 to 8.3886e-04.\n",
      "VALID: Epoch: 40, Loss: 5.545209428153458 , Perplexity:256.008187951457 \n",
      "Model Saved\n",
      "Epoch: 41, Loss: 5.201035998232987 , Perplexity:181.46013691008 \n",
      "VALID: Epoch: 41, Loss: 5.512913784270511 , Perplexity:247.8723223275607 \n",
      "Epoch: 42, Loss: 5.184911477653474 , Perplexity:178.55764274867153 \n",
      "VALID: Epoch: 42, Loss: 5.5348053952537 , Perplexity:253.35847807695845 \n",
      "Epoch: 43, Loss: 5.168989682676251 , Perplexity:175.73719742777425 \n",
      "VALID: Epoch: 43, Loss: 5.547723750359736 , Perplexity:256.6526849204001 \n",
      "Epoch: 44, Loss: 5.156058902469326 , Perplexity:173.47940730696723 \n",
      "Epoch 00044: reducing learning rate of group 0 to 6.7109e-04.\n",
      "VALID: Epoch: 44, Loss: 5.534789484416671 , Perplexity:253.35444696357305 \n",
      "Epoch: 45, Loss: 5.126209232007079 , Perplexity:168.37762621192005 \n",
      "VALID: Epoch: 45, Loss: 5.547995183930384 , Perplexity:256.72235853053513 \n",
      "Epoch: 46, Loss: 5.104449811607901 , Perplexity:164.7534001827023 \n",
      "VALID: Epoch: 46, Loss: 5.5314828053334635 , Perplexity:252.51806869251692 \n",
      "Epoch: 47, Loss: 5.083441755215357 , Perplexity:161.32835420641803 \n",
      "Epoch 00047: reducing learning rate of group 0 to 5.3687e-04.\n",
      "VALID: Epoch: 47, Loss: 5.524257849252822 , Perplexity:250.70021161309495 \n",
      "Epoch: 48, Loss: 5.043455065359631 , Perplexity:155.00464207777077 \n",
      "VALID: Epoch: 48, Loss: 5.52944131926179 , Perplexity:252.003082419944 \n",
      "Epoch: 49, Loss: 5.010933405265709 , Perplexity:150.0447233413505 \n",
      "VALID: Epoch: 49, Loss: 5.50113073378766 , Perplexity:244.9687701850986 \n"
     ]
    }
   ],
   "source": [
    "#training \n",
    "wandb.init(project=\"NNLM\" , name=\"pretrained_withsoftmax\",config = {\n",
    "    \"epochs\": 50 ,\n",
    "    \"optimizer\": \"Adam\",\n",
    "    \"batch_size\": hp.BATCH_SIZE,\n",
    "    \"embeddings_dim\":300,\n",
    "    \"drop_out\":0.5,\n",
    "})\n",
    "initial_lr = 0.001\n",
    "model = NNLM(glove_embeddings, 300, 5)\n",
    "device = 'cuda' if cuda.is_available() else 'cpu'\n",
    "print(\"The Device is {}\".format(device))\n",
    "model.to(device)\n",
    "optimizer = torch.optim.AdamW(model.parameters(), lr=0.005)\n",
    "scheduler = lr_scheduler.ReduceLROnPlateau(optimizer, mode='min', patience=2, factor=0.8, verbose=True)\n",
    "criterion = nn.CrossEntropyLoss()\n",
    "model.train()\n",
    "steps = 0\n",
    "for epoch in range(1,50):\n",
    "    total_loss = 0\n",
    "    perp = 0\n",
    "    for sentence, label in ngrams_dataloader['train']:\n",
    "        steps += 1\n",
    "        sentence = sentence.to(device)\n",
    "        label = label.to(device)\n",
    "        optimizer.zero_grad()\n",
    "        output = model(sentence)\n",
    "        loss = criterion(output, label)\n",
    "        loss.backward()\n",
    "        optimizer.step()\n",
    "        perp+= np.exp(loss.item())\n",
    "        total_loss += loss.item()\n",
    "        \n",
    "    print(\"Epoch: {}, Loss: {} , Perplexity:{} \".format(epoch, total_loss/len(ngrams_dataloader['train']) , np.exp(total_loss/len(ngrams_dataloader['train']) )))\n",
    "   \n",
    "    wandb.log({\"train_loss\": total_loss/len(ngrams_dataloader['train']), \"epoch\": epoch , \"lr\":optimizer.param_groups[0]['lr'],\"perplexity_train\": (total_loss/len(ngrams_dataloader['train'])) })\n",
    "\n",
    "    model.eval()\n",
    "    total_val_loss = 0\n",
    "    perp = 0\n",
    "    with torch.no_grad():\n",
    "        for sentence, label in ngrams_dataloader['val']:\n",
    "            sentence = sentence.to(device)\n",
    "            label = label.to(device)\n",
    "            output = model(sentence)\n",
    "            loss = criterion(output, label)\n",
    "            total_val_loss += loss.item()\n",
    "            perp+= np.exp(loss.item())\n",
    "    scheduler.step(total_val_loss)\n",
    "    print(\"VALID: Epoch: {}, Loss: {} , Perplexity:{} \".format(epoch, total_val_loss/len(ngrams_dataloader['val']) ,  np.exp(total_val_loss/len(ngrams_dataloader['val']) )))\n",
    "    wandb.log({\"val_loss\": total_val_loss/len(ngrams_dataloader['val']), \"epoch\": epoch , \"perplexity_val\":  np.exp(total_val_loss/len(ngrams_dataloader['val']) )})\n",
    "    if epoch%10 == 0:\n",
    "        torch.save(model.state_dict(), '../data/models/model_{}.pth'.format(epoch))\n",
    "        print(\"Model Saved\")    \n"
   ]
  },
  {
   "cell_type": "code",
   "execution_count": 8,
   "metadata": {},
   "outputs": [
    {
     "data": {
      "text/html": [
       "Waiting for W&B process to finish... <strong style=\"color:green\">(success).</strong>"
      ],
      "text/plain": [
       "<IPython.core.display.HTML object>"
      ]
     },
     "metadata": {},
     "output_type": "display_data"
    },
    {
     "name": "stderr",
     "output_type": "stream",
     "text": [
      "wandb: WARNING Source type is set to 'repo' but some required information is missing from the environment. A job will not be created from this run. See https://docs.wandb.ai/guides/launch/create-job\n"
     ]
    },
    {
     "data": {
      "text/html": [
       "<style>\n",
       "    table.wandb td:nth-child(1) { padding: 0 10px; text-align: left ; width: auto;} td:nth-child(2) {text-align: left ; width: 100%}\n",
       "    .wandb-row { display: flex; flex-direction: row; flex-wrap: wrap; justify-content: flex-start; width: 100% }\n",
       "    .wandb-col { display: flex; flex-direction: column; flex-basis: 100%; flex: 1; padding: 10px; }\n",
       "    </style>\n",
       "<div class=\"wandb-row\"><div class=\"wandb-col\"><h3>Run history:</h3><br/><table class=\"wandb\"><tr><td>epoch</td><td>▁▁▁▁▂▂▂▂▂▃▃▃▃▃▃▄▄▄▄▄▅▅▅▅▅▆▆▆▆▆▆▇▇▇▇▇▇███</td></tr><tr><td>lr</td><td>██████▆▆▆▆▆▆▆▅▅▅▅▅▄▄▄▄▄▃▃▃▃▃▂▂▂▂▂▁▁▁▁▁▁▁</td></tr><tr><td>perplexity_train</td><td>█▆▆▅▅▅▅▅▅▅▅▅▅▅▅▅▅▅▅▅▅▄▄▄▄▄▄▄▄▃▃▃▃▃▃▂▂▂▂▁</td></tr><tr><td>perplexity_val</td><td>█▆▇▆▇▆▆▆▅▅▅▅▆▅▄▅▆▅▄▃▂▃▄▆▃▅▅▇▅▄▅▃▄▂▃▃▄▃▂▁</td></tr><tr><td>train_loss</td><td>█▆▆▅▅▅▅▅▅▅▅▅▅▅▅▅▅▅▅▅▅▄▄▄▄▄▄▄▄▃▃▃▃▃▃▂▂▂▂▁</td></tr><tr><td>val_loss</td><td>█▆▇▆▇▆▆▆▅▅▅▅▆▅▅▅▆▅▄▃▃▄▄▆▄▅▅▇▅▄▅▃▄▂▃▃▄▃▂▁</td></tr></table><br/></div><div class=\"wandb-col\"><h3>Run summary:</h3><br/><table class=\"wandb\"><tr><td>epoch</td><td>49</td></tr><tr><td>lr</td><td>0.00054</td></tr><tr><td>perplexity_train</td><td>5.01093</td></tr><tr><td>perplexity_val</td><td>244.96877</td></tr><tr><td>train_loss</td><td>5.01093</td></tr><tr><td>val_loss</td><td>5.50113</td></tr></table><br/></div></div>"
      ],
      "text/plain": [
       "<IPython.core.display.HTML object>"
      ]
     },
     "metadata": {},
     "output_type": "display_data"
    },
    {
     "data": {
      "text/html": [
       " View run <strong style=\"color:#cdcd00\">pretrained_withsoftmax</strong> at: <a href='https://wandb.ai/jain_it/NNLM/runs/hv832imi' target=\"_blank\">https://wandb.ai/jain_it/NNLM/runs/hv832imi</a><br/>Synced 5 W&B file(s), 0 media file(s), 0 artifact file(s) and 0 other file(s)"
      ],
      "text/plain": [
       "<IPython.core.display.HTML object>"
      ]
     },
     "metadata": {},
     "output_type": "display_data"
    },
    {
     "data": {
      "text/html": [
       "Find logs at: <code>./wandb/run-20230902_003140-hv832imi/logs</code>"
      ],
      "text/plain": [
       "<IPython.core.display.HTML object>"
      ]
     },
     "metadata": {},
     "output_type": "display_data"
    }
   ],
   "source": [
    "wandb.finish()"
   ]
  },
  {
   "cell_type": "code",
   "execution_count": null,
   "metadata": {},
   "outputs": [],
   "source": []
  }
 ],
 "metadata": {
  "kernelspec": {
   "display_name": "blip-env",
   "language": "python",
   "name": "python3"
  },
  "language_info": {
   "codemirror_mode": {
    "name": "ipython",
    "version": 3
   },
   "file_extension": ".py",
   "mimetype": "text/x-python",
   "name": "python",
   "nbconvert_exporter": "python",
   "pygments_lexer": "ipython3",
   "version": "3.9.17"
  },
  "orig_nbformat": 4
 },
 "nbformat": 4,
 "nbformat_minor": 2
}
